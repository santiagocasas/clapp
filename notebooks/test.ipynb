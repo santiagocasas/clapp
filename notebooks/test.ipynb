{
 "cells": [
  {
   "cell_type": "code",
   "execution_count": 1,
   "metadata": {},
   "outputs": [
    {
     "name": "stdout",
     "output_type": "stream",
     "text": [
      "User: Hello, agent!\n",
      "Assistant: Hello! How can I assist you today? If you have any questions or need help with the Einstein-Boltzmann equations or the CLASS code, feel free to ask!\n"
     ]
    }
   ],
   "source": [
    "import openai\n",
    "openai.api_key = \"\"\n",
    "\n",
    "# Your assistant ID from the dashboard\n",
    "assistant_id = \"asst_pq9CSPIkCoLvx3XkLdBUZbGV\"\n",
    "\n",
    "# Step 1: Create a thread\n",
    "thread = openai.beta.threads.create()\n",
    "\n",
    "# Step 2: Add a message to the thread\n",
    "message = openai.beta.threads.messages.create(\n",
    "    thread_id=thread.id,\n",
    "    role=\"user\",\n",
    "    content=\"Hello, agent!\"\n",
    ")\n",
    "\n",
    "# Step 3: Run your assistant\n",
    "run = openai.beta.threads.runs.create(\n",
    "    thread_id=thread.id,\n",
    "    assistant_id=assistant_id\n",
    ")\n",
    "\n",
    "# Wait until the assistant responds (polling)\n",
    "import time\n",
    "while True:\n",
    "    run_status = openai.beta.threads.runs.retrieve(\n",
    "        thread_id=thread.id,\n",
    "        run_id=run.id\n",
    "    )\n",
    "    if run_status.status in ['completed', 'failed', 'cancelled', 'expired']:\n",
    "        break\n",
    "    time.sleep(1)\n",
    "\n",
    "# Retrieve assistant's response\n",
    "messages = openai.beta.threads.messages.list(thread_id=thread.id)\n",
    "\n",
    "for msg in reversed(messages.data):\n",
    "    print(f\"{msg.role.capitalize()}: {msg.content[0].text.value}\")"
   ]
  },
  {
   "cell_type": "code",
   "execution_count": null,
   "metadata": {},
   "outputs": [],
   "source": []
  }
 ],
 "metadata": {
  "kernelspec": {
   "display_name": "base",
   "language": "python",
   "name": "python3"
  },
  "language_info": {
   "codemirror_mode": {
    "name": "ipython",
    "version": 3
   },
   "file_extension": ".py",
   "mimetype": "text/x-python",
   "name": "python",
   "nbconvert_exporter": "python",
   "pygments_lexer": "ipython3",
   "version": "3.9.7"
  }
 },
 "nbformat": 4,
 "nbformat_minor": 2
}
